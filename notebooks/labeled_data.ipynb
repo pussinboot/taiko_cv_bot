{
 "cells": [
  {
   "cell_type": "markdown",
   "metadata": {},
   "source": [
    "<img src=\"../extracted/out-1.png\">\n",
    "\n",
    "here we have it all (almost)\n",
    "\n",
    "- combobar\n",
    "- score\n",
    "- messup graphic\n",
    "- the gameplay bar"
   ]
  },
  {
   "cell_type": "markdown",
   "metadata": {},
   "source": [
    "<img src=\"../extracted/out-1705.png\">\n",
    "\n",
    "blue drum + fever mode"
   ]
  },
  {
   "cell_type": "markdown",
   "metadata": {
    "collapsed": true
   },
   "source": [
    "<img src=\"../extracted/out-29.png\">\n",
    "\n",
    "here is an orange hit (unsuccessful)"
   ]
  },
  {
   "cell_type": "markdown",
   "metadata": {},
   "source": [
    "<img src=\"../extracted/out-3103.png\">\n",
    "\n",
    "blue hit"
   ]
  },
  {
   "cell_type": "markdown",
   "metadata": {},
   "source": [
    "<img src=\"../extracted/out-69.png\">\n",
    "\n",
    "perfect hit"
   ]
  },
  {
   "cell_type": "markdown",
   "metadata": {},
   "source": [
    "<img src=\"../extracted/out-175.png\">\n",
    "\n",
    "okay hit"
   ]
  },
  {
   "cell_type": "markdown",
   "metadata": {},
   "source": [
    "<img src=\"../extracted/out-197.png\">\n",
    "\n",
    "miss hit"
   ]
  },
  {
   "cell_type": "markdown",
   "metadata": {},
   "source": [
    "<img src=\"../extracted/out-312.png\">\n",
    "\n",
    "big drum"
   ]
  },
  {
   "cell_type": "markdown",
   "metadata": {},
   "source": [
    "<img src=\"../extracted/out-1397.png\">\n",
    "\n",
    "long drum"
   ]
  },
  {
   "cell_type": "markdown",
   "metadata": {},
   "source": [
    "only missing thing is big countdown drum"
   ]
  }
 ],
 "metadata": {
  "kernelspec": {
   "display_name": "Python 3",
   "language": "python",
   "name": "python3"
  },
  "language_info": {
   "codemirror_mode": {
    "name": "ipython",
    "version": 3
   },
   "file_extension": ".py",
   "mimetype": "text/x-python",
   "name": "python",
   "nbconvert_exporter": "python",
   "pygments_lexer": "ipython3",
   "version": "3.4.3"
  }
 },
 "nbformat": 4,
 "nbformat_minor": 0
}
